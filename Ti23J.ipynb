{
 "cells": [
  {
   "cell_type": "markdown",
   "id": "b57df767",
   "metadata": {},
   "source": [
    "1. Operator Aritmatika"
   ]
  },
  {
   "cell_type": "code",
   "execution_count": 17,
   "id": "25285ed4",
   "metadata": {},
   "outputs": [
    {
     "name": "stdout",
     "output_type": "stream",
     "text": [
      "13\n",
      "7\n",
      "30\n",
      "3.3333333333333335\n",
      "3\n",
      "1000\n",
      "1\n"
     ]
    }
   ],
   "source": [
    "num1 = 10\n",
    "num2 = 3\n",
    "\n",
    "jumlah = num1 + num2\n",
    "kurang = num1 - num2\n",
    "kali = num1 * num2\n",
    "bagi = num1 / num2 \n",
    "bagi_bulat = num1 // num2\n",
    "pangkat = num1 ** num2\n",
    "modulus = num1 % num2\n",
    "\n",
    "print(jumlah)\n",
    "print(kurang)\n",
    "print(kali)\n",
    "print(bagi)\n",
    "print(bagi_bulat)\n",
    "print(pangkat)\n",
    "print(modulus)\n",
    "\n",
    "\n"
   ]
  },
  {
   "cell_type": "markdown",
   "id": "9b353a50",
   "metadata": {},
   "source": [
    "2. Operator Assigment"
   ]
  },
  {
   "cell_type": "code",
   "execution_count": 19,
   "id": "f3f76dff",
   "metadata": {},
   "outputs": [
    {
     "ename": "SyntaxError",
     "evalue": "invalid syntax (2872326062.py, line 20)",
     "output_type": "error",
     "traceback": [
      "\u001b[1;36m  Input \u001b[1;32mIn [19]\u001b[1;36m\u001b[0m\n\u001b[1;33m    for in range (0,5):\u001b[0m\n\u001b[1;37m        ^\u001b[0m\n\u001b[1;31mSyntaxError\u001b[0m\u001b[1;31m:\u001b[0m invalid syntax\n"
     ]
    }
   ],
   "source": [
    "x = 5 #assigment operator\n",
    "x +=10 # x = x + 10 => 15\n",
    "print(x)\n",
    "x -=4 # x = x -4 => 11\n",
    "print(x)\n",
    "x *=2 # x = x * 2 => 22\n",
    "print(x)\n",
    "x /3 # x = x / 3 => 7....\n",
    "print(x)\n",
    "x //=2 # x = x //2 => 3.0\n",
    "print(x)\n",
    "x **=3 # x = x ** 3 => 27\n",
    "print(x)\n",
    "x %=2 # x = x % 2 =>1\n",
    "print(x)\n",
    "\n",
    "data = [ 1,2,3,4,5]\n",
    "total = 0\n",
    "\n",
    "for in range (0,5):\n",
    "    total += data[i]\n",
    "print(\"Total :\" , total"
   ]
  },
  {
   "cell_type": "markdown",
   "id": "231209db",
   "metadata": {},
   "source": [
    "3. Operator Perbandingan"
   ]
  },
  {
   "cell_type": "code",
   "execution_count": 20,
   "id": "678d69ca",
   "metadata": {},
   "outputs": [
    {
     "ename": "NameError",
     "evalue": "name 'is_egual' is not defined",
     "output_type": "error",
     "traceback": [
      "\u001b[1;31m---------------------------------------------------------------------------\u001b[0m",
      "\u001b[1;31mNameError\u001b[0m                                 Traceback (most recent call last)",
      "Input \u001b[1;32mIn [20]\u001b[0m, in \u001b[0;36m<cell line: 11>\u001b[1;34m()\u001b[0m\n\u001b[0;32m      8\u001b[0m is_greater_equal \u001b[38;5;241m=\u001b[39m bil1 \u001b[38;5;241m>\u001b[39m\u001b[38;5;241m=\u001b[39m bil2\n\u001b[0;32m      9\u001b[0m is_less_than_equal \u001b[38;5;241m=\u001b[39m bil1 \u001b[38;5;241m<\u001b[39m\u001b[38;5;241m=\u001b[39m bil2\n\u001b[1;32m---> 11\u001b[0m \u001b[38;5;28mprint\u001b[39m(\u001b[43mis_egual\u001b[49m)\n\u001b[0;32m     12\u001b[0m \u001b[38;5;28mprint\u001b[39m(is_not_egual)\n\u001b[0;32m     13\u001b[0m \u001b[38;5;28mprint\u001b[39m(is_greater_than)\n",
      "\u001b[1;31mNameError\u001b[0m: name 'is_egual' is not defined"
     ]
    }
   ],
   "source": [
    "bil1 = 8\n",
    "bil2 = 7\n",
    "\n",
    "is_equal = bil1 == bil2\n",
    "is_not_equal = bil1 != bil2\n",
    "is_greater_than = bil1 > bil2\n",
    "is_less_than = bil1 < bil2 \n",
    "is_greater_equal = bil1 >= bil2\n",
    "is_less_than_equal = bil1 <= bil2\n",
    "\n",
    "print(is_egual)\n",
    "print(is_not_egual)\n",
    "print(is_greater_than)\n",
    "print(is_less_than)\n",
    "print(is_greater_equal)\n",
    "print(is_less_than_equal)\n"
   ]
  },
  {
   "cell_type": "markdown",
   "id": "9207fa39",
   "metadata": {},
   "source": [
    "4. Operator Logika"
   ]
  },
  {
   "cell_type": "code",
   "execution_count": 16,
   "id": "b788f370",
   "metadata": {},
   "outputs": [
    {
     "ename": "SyntaxError",
     "evalue": "invalid syntax (3215983607.py, line 3)",
     "output_type": "error",
     "traceback": [
      "\u001b[1;36m  Input \u001b[1;32mIn [16]\u001b[1;36m\u001b[0m\n\u001b[1;33m    opr_and = var1 < var2 and var1 <=4 3True\u001b[0m\n\u001b[1;37m                                       ^\u001b[0m\n\u001b[1;31mSyntaxError\u001b[0m\u001b[1;31m:\u001b[0m invalid syntax\n"
     ]
    }
   ],
   "source": [
    "var1 = 4\n",
    "var2 = 10 \n",
    "opr_and = var1 < var2 and var1 <=4 3True\n",
    "opr_or = var1 > var2 or var1 % 2==1 #False\n",
    "opr_not = not opr_or\n",
    "print(opr_and)\n",
    "print(opr_or)\n",
    "print(opr_and)"
   ]
  },
  {
   "cell_type": "markdown",
   "id": "ab59251d",
   "metadata": {},
   "source": [
    "5. Operator Identitas"
   ]
  },
  {
   "cell_type": "code",
   "execution_count": 12,
   "id": "420ccca4",
   "metadata": {},
   "outputs": [
    {
     "name": "stdout",
     "output_type": "stream",
     "text": [
      "True\n",
      "False\n",
      "False\n",
      "True\n",
      "True\n",
      "False\n"
     ]
    }
   ],
   "source": [
    "fruits = [\"Apple\",\"Mangoes\",\"Watermelon\"]\n",
    "my_favorite_fruits = fruits\n",
    "your_fruits = [\"Apple\",\"Mangoes\",\"Watermelon\"]\n",
    "\n",
    "print(fruits is my_favorite_fruits)\n",
    "print(fruits is your_fruits)\n",
    "print(fruits is not my_favorite_fruits)\n",
    "print(fruits is not your_fruits)\n",
    "\n",
    "a = 5\n",
    "b = 5 #python menggunakan metode hasing dalam memberikan nilai variabel\n",
    "print ( a is b)\n",
    "print ( a is not b)"
   ]
  },
  {
   "cell_type": "markdown",
   "id": "44e2ee00",
   "metadata": {},
   "source": [
    "6. Operator Keaggotaan"
   ]
  },
  {
   "cell_type": "code",
   "execution_count": 7,
   "id": "514935e0",
   "metadata": {},
   "outputs": [
    {
     "name": "stdout",
     "output_type": "stream",
     "text": [
      "True\n",
      "False\n",
      "False\n",
      "True\n"
     ]
    }
   ],
   "source": [
    "student_names = [\"Andi\",\"Beni\",\"Chika\"]\n",
    "print(\"Beni\" in student_names)\n",
    "print(\"Andi\" not in student_names)\n",
    "print(\"Defi\" in student_names)\n",
    "print(\"Defi\" not in student_names)\n"
   ]
  },
  {
   "cell_type": "markdown",
   "id": "50804eee",
   "metadata": {},
   "source": [
    "7. Operator Bitwise"
   ]
  },
  {
   "cell_type": "code",
   "execution_count": 11,
   "id": "20802328",
   "metadata": {},
   "outputs": [
    {
     "name": "stdout",
     "output_type": "stream",
     "text": [
      "15\n",
      "255\n",
      "240\n"
     ]
    }
   ],
   "source": [
    "nilai_and = 255 & 15\n",
    "nilai_or = 255 | 15\n",
    "nilai_xor = 255 ^ 15\n",
    "#11111111\n",
    "#00001111\n",
    "#-------- xor\n",
    "# 11110000 => 16 + 32 + 64 + 128\n",
    "print(nilai_and)\n",
    "print(nilai_or)\n",
    "print(nilai_xor)"
   ]
  },
  {
   "cell_type": "code",
   "execution_count": null,
   "id": "697abfc6",
   "metadata": {},
   "outputs": [],
   "source": []
  }
 ],
 "metadata": {
  "kernelspec": {
   "display_name": "Python 3 (ipykernel)",
   "language": "python",
   "name": "python3"
  },
  "language_info": {
   "codemirror_mode": {
    "name": "ipython",
    "version": 3
   },
   "file_extension": ".py",
   "mimetype": "text/x-python",
   "name": "python",
   "nbconvert_exporter": "python",
   "pygments_lexer": "ipython3",
   "version": "3.9.12"
  }
 },
 "nbformat": 4,
 "nbformat_minor": 5
}
